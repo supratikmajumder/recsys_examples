{
 "cells": [
  {
   "attachments": {},
   "cell_type": "markdown",
   "metadata": {},
   "source": [
    "Recommender System built using collaborative filtering, and explores some of the variations.\n",
    "\n",
    "Collaborative filtering is a technique that can filter out iterms that a user might like on the basis of reactions by similar users. It works by searching a large group of people and finding a smaller set of users with tastes similar to a particular user. It looks at the items they like and combines them to create a ranked list of suggestions."
   ]
  },
  {
   "cell_type": "code",
   "execution_count": 1,
   "metadata": {},
   "outputs": [
    {
     "name": "stdout",
     "output_type": "stream",
     "text": [
      "(100836, 4)\n",
      "Number of movies: 9724\n",
      "Number of user: 610\n"
     ]
    }
   ],
   "source": [
    "import pandas as pd\n",
    "import numpy as np\n",
    "from sklearn.model_selection import train_test_split\n",
    "\n",
    "# Load movies metadata from dataset\n",
    "dataset = pd.read_csv(\"../data/raw/movielens-small/ratings.csv\", low_memory=False, header=0, names=['user_id', 'movie_id', 'rating', 'timestamp'])\n",
    "print(dataset.shape)\n",
    "\n",
    "# Map movie ID to [1, num_movies]\n",
    "movie_id_to_new_id = dict()\n",
    "id = 1\n",
    "for index, row in dataset.iterrows():\n",
    "    if movie_id_to_new_id.get(row['movie_id']) is None:\n",
    "        movie_id_to_new_id[row['movie_id']] = id\n",
    "        dataset.at[index, 'movie_id'] = id\n",
    "        id += 1\n",
    "    else:\n",
    "        dataset.at[index, 'movie_id'] = movie_id_to_new_id.get(row['movie_id'])\n",
    "\n",
    "num_users = len(dataset.user_id.unique())\n",
    "num_movies = len(dataset.movie_id.unique())\n",
    "train, test = train_test_split(dataset, test_size=0.1)\n",
    "\n",
    "print('Number of movies:', num_movies)\n",
    "print('Number of user:', num_users)"
   ]
  },
  {
   "cell_type": "code",
   "execution_count": 2,
   "metadata": {},
   "outputs": [
    {
     "data": {
      "text/html": [
       "<div>\n",
       "<style scoped>\n",
       "    .dataframe tbody tr th:only-of-type {\n",
       "        vertical-align: middle;\n",
       "    }\n",
       "\n",
       "    .dataframe tbody tr th {\n",
       "        vertical-align: top;\n",
       "    }\n",
       "\n",
       "    .dataframe thead th {\n",
       "        text-align: right;\n",
       "    }\n",
       "</style>\n",
       "<table border=\"1\" class=\"dataframe\">\n",
       "  <thead>\n",
       "    <tr style=\"text-align: right;\">\n",
       "      <th></th>\n",
       "      <th>user_id</th>\n",
       "      <th>movie_id</th>\n",
       "      <th>rating</th>\n",
       "      <th>timestamp</th>\n",
       "    </tr>\n",
       "  </thead>\n",
       "  <tbody>\n",
       "    <tr>\n",
       "      <th>7391</th>\n",
       "      <td>50</td>\n",
       "      <td>1089</td>\n",
       "      <td>2.5</td>\n",
       "      <td>1514239052</td>\n",
       "    </tr>\n",
       "    <tr>\n",
       "      <th>61939</th>\n",
       "      <td>410</td>\n",
       "      <td>2685</td>\n",
       "      <td>4.0</td>\n",
       "      <td>990729023</td>\n",
       "    </tr>\n",
       "    <tr>\n",
       "      <th>92288</th>\n",
       "      <td>597</td>\n",
       "      <td>350</td>\n",
       "      <td>4.0</td>\n",
       "      <td>941558258</td>\n",
       "    </tr>\n",
       "  </tbody>\n",
       "</table>\n",
       "</div>"
      ],
      "text/plain": [
       "       user_id  movie_id  rating   timestamp\n",
       "7391        50      1089     2.5  1514239052\n",
       "61939      410      2685     4.0   990729023\n",
       "92288      597       350     4.0   941558258"
      ]
     },
     "execution_count": 2,
     "metadata": {},
     "output_type": "execute_result"
    }
   ],
   "source": [
    "train.head(3)"
   ]
  },
  {
   "cell_type": "code",
   "execution_count": 3,
   "metadata": {},
   "outputs": [
    {
     "data": {
      "text/html": [
       "<div>\n",
       "<style scoped>\n",
       "    .dataframe tbody tr th:only-of-type {\n",
       "        vertical-align: middle;\n",
       "    }\n",
       "\n",
       "    .dataframe tbody tr th {\n",
       "        vertical-align: top;\n",
       "    }\n",
       "\n",
       "    .dataframe thead th {\n",
       "        text-align: right;\n",
       "    }\n",
       "</style>\n",
       "<table border=\"1\" class=\"dataframe\">\n",
       "  <thead>\n",
       "    <tr style=\"text-align: right;\">\n",
       "      <th></th>\n",
       "      <th>user_id</th>\n",
       "      <th>movie_id</th>\n",
       "      <th>rating</th>\n",
       "      <th>timestamp</th>\n",
       "    </tr>\n",
       "  </thead>\n",
       "  <tbody>\n",
       "    <tr>\n",
       "      <th>70197</th>\n",
       "      <td>448</td>\n",
       "      <td>7910</td>\n",
       "      <td>2.5</td>\n",
       "      <td>1419788002</td>\n",
       "    </tr>\n",
       "    <tr>\n",
       "      <th>100568</th>\n",
       "      <td>610</td>\n",
       "      <td>6092</td>\n",
       "      <td>4.5</td>\n",
       "      <td>1493848007</td>\n",
       "    </tr>\n",
       "    <tr>\n",
       "      <th>63823</th>\n",
       "      <td>414</td>\n",
       "      <td>460</td>\n",
       "      <td>4.0</td>\n",
       "      <td>1019484355</td>\n",
       "    </tr>\n",
       "  </tbody>\n",
       "</table>\n",
       "</div>"
      ],
      "text/plain": [
       "        user_id  movie_id  rating   timestamp\n",
       "70197       448      7910     2.5  1419788002\n",
       "100568      610      6092     4.5  1493848007\n",
       "63823       414       460     4.0  1019484355"
      ]
     },
     "execution_count": 3,
     "metadata": {},
     "output_type": "execute_result"
    }
   ],
   "source": [
    "test.head(3)"
   ]
  },
  {
   "attachments": {},
   "cell_type": "markdown",
   "metadata": {},
   "source": [
    "Multi-Layer Perceptron\n",
    "\n",
    "Based on the NCF paper."
   ]
  },
  {
   "cell_type": "code",
   "execution_count": 4,
   "metadata": {},
   "outputs": [],
   "source": [
    "from keras.models import Model, Sequential\n",
    "from keras.layers import Embedding, Flatten, Input, Dot, Concatenate, Dropout, Dense, BatchNormalization\n",
    "from keras.optimizers import Adam\n",
    "from keras.utils.vis_utils import model_to_dot\n",
    "from IPython.display import SVG\n",
    "\n",
    "latent_dim = 10\n",
    "\n",
    "# Define inputs\n",
    "movie_input = Input(shape=[1], name='movie-input')\n",
    "user_input = Input(shape=[1], name='user-input')\n",
    "\n",
    "# MLP embeddings\n",
    "movie_embedding_mlp = Embedding(num_movies + 1, latent_dim, name='movie-embedding-mlp')(movie_input)\n",
    "movie_vec_mlp = Flatten(name='flatten-movie-mlp')(movie_embedding_mlp)\n",
    "\n",
    "user_embedding_mlp = Embedding(num_users + 1, latent_dim, name='user-embedding-mlp')(user_input)\n",
    "user_vec_mlp = Flatten(name='flatten-user-mlp')(user_embedding_mlp)\n",
    "\n",
    "# MF embeddings\n",
    "movie_embedding_mf = Embedding(num_movies + 1, latent_dim, name='movie-embedding-mf')(movie_input)\n",
    "movie_vec_mf = Flatten(name='flatten-movie-mf')(movie_embedding_mf)\n",
    "\n",
    "user_embedding_mf = Embedding(num_users + 1, latent_dim, name='user-embedding-mf')(user_input)\n",
    "user_vec_mf = Flatten(name='flatten-user-mf')(user_embedding_mf)\n",
    "\n",
    "# MLP layers\n",
    "concat = Concatenate(name='concat')([movie_vec_mlp, user_vec_mlp])\n",
    "# concat = merge([movie_vec_mlp, user_vec_mlp], mode='concat', name='concat')\n",
    "concat_dropout = Dropout(0.2)(concat)\n",
    "\n",
    "fc_1 = Dense(100, name='fc-1', activation='relu')(concat_dropout)\n",
    "fc_1_bn = BatchNormalization(name='batch-norm-1')(fc_1)\n",
    "fc_1_dropout = Dropout(0.2)(fc_1_bn)\n",
    "\n",
    "fc_2 = Dense(50, name='fc-2', activation='relu')(fc_1_dropout)\n",
    "fc_2_bn = BatchNormalization(name='batch-norm-2')(fc_2)\n",
    "fc_2_dropout = Dropout(0.2)(fc_2_bn)\n",
    "\n",
    "# Prediction from both layers\n",
    "pred_mlp = Dense(10, name='pred-mlp', activation='relu')(fc_2_dropout)\n",
    "# pred_mf = merge([movie_vec_mf, user_vec_mf], mode='dot', name='pred-mf')\n",
    "pred_mf = Dot(axes=1, name='pred-mf')([movie_vec_mf, user_vec_mf])\n",
    "# combine_mlp_mf = merge([pred_mf, pred_mlp], mode='concat', name='combine-mlp-mf')\n",
    "combine_mlp_mf = Concatenate(name='combine-mlp-mf')([pred_mf, pred_mlp])\n",
    "# Final prediction\n",
    "result = Dense(1, name='result', activation='relu')(combine_mlp_mf)\n",
    "\n",
    "model = Model([user_input, movie_input], result)\n",
    "model.compile(optimizer=Adam(learning_rate=0.01), loss='mean_absolute_error')\n",
    "\n",
    "# Commented out next line because it causes an error (os.errno is not found) -- should not effect functionality in any way\n",
    "# SVG(model_to_dot(model, show_shapes=True).create(prog='dot', format='svg'))"
   ]
  },
  {
   "cell_type": "code",
   "execution_count": 5,
   "metadata": {},
   "outputs": [
    {
     "name": "stdout",
     "output_type": "stream",
     "text": [
      "Model: \"model\"\n",
      "__________________________________________________________________________________________________\n",
      " Layer (type)                   Output Shape         Param #     Connected to                     \n",
      "==================================================================================================\n",
      " movie-input (InputLayer)       [(None, 1)]          0           []                               \n",
      "                                                                                                  \n",
      " user-input (InputLayer)        [(None, 1)]          0           []                               \n",
      "                                                                                                  \n",
      " movie-embedding-mlp (Embedding  (None, 1, 10)       97250       ['movie-input[0][0]']            \n",
      " )                                                                                                \n",
      "                                                                                                  \n",
      " user-embedding-mlp (Embedding)  (None, 1, 10)       6110        ['user-input[0][0]']             \n",
      "                                                                                                  \n",
      " flatten-movie-mlp (Flatten)    (None, 10)           0           ['movie-embedding-mlp[0][0]']    \n",
      "                                                                                                  \n",
      " flatten-user-mlp (Flatten)     (None, 10)           0           ['user-embedding-mlp[0][0]']     \n",
      "                                                                                                  \n",
      " concat (Concatenate)           (None, 20)           0           ['flatten-movie-mlp[0][0]',      \n",
      "                                                                  'flatten-user-mlp[0][0]']       \n",
      "                                                                                                  \n",
      " dropout (Dropout)              (None, 20)           0           ['concat[0][0]']                 \n",
      "                                                                                                  \n",
      " fc-1 (Dense)                   (None, 100)          2100        ['dropout[0][0]']                \n",
      "                                                                                                  \n",
      " batch-norm-1 (BatchNormalizati  (None, 100)         400         ['fc-1[0][0]']                   \n",
      " on)                                                                                              \n",
      "                                                                                                  \n",
      " dropout_1 (Dropout)            (None, 100)          0           ['batch-norm-1[0][0]']           \n",
      "                                                                                                  \n",
      " fc-2 (Dense)                   (None, 50)           5050        ['dropout_1[0][0]']              \n",
      "                                                                                                  \n",
      " movie-embedding-mf (Embedding)  (None, 1, 10)       97250       ['movie-input[0][0]']            \n",
      "                                                                                                  \n",
      " user-embedding-mf (Embedding)  (None, 1, 10)        6110        ['user-input[0][0]']             \n",
      "                                                                                                  \n",
      " batch-norm-2 (BatchNormalizati  (None, 50)          200         ['fc-2[0][0]']                   \n",
      " on)                                                                                              \n",
      "                                                                                                  \n",
      " flatten-movie-mf (Flatten)     (None, 10)           0           ['movie-embedding-mf[0][0]']     \n",
      "                                                                                                  \n",
      " flatten-user-mf (Flatten)      (None, 10)           0           ['user-embedding-mf[0][0]']      \n",
      "                                                                                                  \n",
      " dropout_2 (Dropout)            (None, 50)           0           ['batch-norm-2[0][0]']           \n",
      "                                                                                                  \n",
      " pred-mf (Dot)                  (None, 1)            0           ['flatten-movie-mf[0][0]',       \n",
      "                                                                  'flatten-user-mf[0][0]']        \n",
      "                                                                                                  \n",
      " pred-mlp (Dense)               (None, 10)           510         ['dropout_2[0][0]']              \n",
      "                                                                                                  \n",
      " combine-mlp-mf (Concatenate)   (None, 11)           0           ['pred-mf[0][0]',                \n",
      "                                                                  'pred-mlp[0][0]']               \n",
      "                                                                                                  \n",
      " result (Dense)                 (None, 1)            12          ['combine-mlp-mf[0][0]']         \n",
      "                                                                                                  \n",
      "==================================================================================================\n",
      "Total params: 214,992\n",
      "Trainable params: 214,692\n",
      "Non-trainable params: 300\n",
      "__________________________________________________________________________________________________\n"
     ]
    }
   ],
   "source": [
    "model.summary()"
   ]
  },
  {
   "cell_type": "code",
   "execution_count": 6,
   "metadata": {},
   "outputs": [
    {
     "name": "stdout",
     "output_type": "stream",
     "text": [
      "Epoch 1/50\n",
      "2836/2836 [==============================] - 19s 6ms/step - loss: 0.7739\n",
      "Epoch 2/50\n",
      "2836/2836 [==============================] - 17s 6ms/step - loss: 0.6816\n",
      "Epoch 3/50\n",
      "2836/2836 [==============================] - 15s 5ms/step - loss: 0.6256\n",
      "Epoch 4/50\n",
      "2836/2836 [==============================] - 16s 6ms/step - loss: 0.5661\n",
      "Epoch 5/50\n",
      "2836/2836 [==============================] - 28s 10ms/step - loss: 0.5261\n",
      "Epoch 6/50\n",
      "2836/2836 [==============================] - 21s 7ms/step - loss: 0.5016\n",
      "Epoch 7/50\n",
      "2836/2836 [==============================] - 21s 8ms/step - loss: 0.4835\n",
      "Epoch 8/50\n",
      "2836/2836 [==============================] - 17s 6ms/step - loss: 0.4671\n",
      "Epoch 9/50\n",
      "2836/2836 [==============================] - 23s 8ms/step - loss: 0.4571\n",
      "Epoch 10/50\n",
      "2836/2836 [==============================] - 27s 9ms/step - loss: 0.4466\n",
      "Epoch 11/50\n",
      "2836/2836 [==============================] - 21s 7ms/step - loss: 0.4403\n",
      "Epoch 12/50\n",
      "2836/2836 [==============================] - 18s 6ms/step - loss: 0.4327\n",
      "Epoch 13/50\n",
      "2836/2836 [==============================] - 19s 7ms/step - loss: 0.4285\n",
      "Epoch 14/50\n",
      "2836/2836 [==============================] - 20s 7ms/step - loss: 0.4221\n",
      "Epoch 15/50\n",
      "2836/2836 [==============================] - 18s 6ms/step - loss: 0.4180\n",
      "Epoch 16/50\n",
      "2836/2836 [==============================] - 19s 7ms/step - loss: 0.4150\n",
      "Epoch 17/50\n",
      "2836/2836 [==============================] - 19s 7ms/step - loss: 0.4099\n",
      "Epoch 18/50\n",
      "2836/2836 [==============================] - 26s 9ms/step - loss: 0.4070\n",
      "Epoch 19/50\n",
      "2836/2836 [==============================] - 18s 6ms/step - loss: 0.4031\n",
      "Epoch 20/50\n",
      "2836/2836 [==============================] - 16s 6ms/step - loss: 0.4011\n",
      "Epoch 21/50\n",
      "2836/2836 [==============================] - 16s 6ms/step - loss: 0.3992\n",
      "Epoch 22/50\n",
      "2836/2836 [==============================] - 16s 6ms/step - loss: 0.3973\n",
      "Epoch 23/50\n",
      "2836/2836 [==============================] - 16s 5ms/step - loss: 0.3940\n",
      "Epoch 24/50\n",
      "2836/2836 [==============================] - 15s 5ms/step - loss: 0.3932\n",
      "Epoch 25/50\n",
      "2836/2836 [==============================] - 16s 6ms/step - loss: 0.3898\n",
      "Epoch 26/50\n",
      "2836/2836 [==============================] - 15s 5ms/step - loss: 0.3882\n",
      "Epoch 27/50\n",
      "2836/2836 [==============================] - 16s 6ms/step - loss: 0.3862\n",
      "Epoch 28/50\n",
      "2836/2836 [==============================] - 15s 5ms/step - loss: 0.3847\n",
      "Epoch 29/50\n",
      "2836/2836 [==============================] - 17s 6ms/step - loss: 0.3841\n",
      "Epoch 30/50\n",
      "2836/2836 [==============================] - 16s 6ms/step - loss: 0.3810\n",
      "Epoch 31/50\n",
      "2836/2836 [==============================] - 15s 5ms/step - loss: 0.3812\n",
      "Epoch 32/50\n",
      "2836/2836 [==============================] - 16s 6ms/step - loss: 0.3791\n",
      "Epoch 33/50\n",
      "2836/2836 [==============================] - 15s 5ms/step - loss: 0.3782\n",
      "Epoch 34/50\n",
      "2836/2836 [==============================] - 16s 6ms/step - loss: 0.3788\n",
      "Epoch 35/50\n",
      "2836/2836 [==============================] - 15s 5ms/step - loss: 0.3773\n",
      "Epoch 36/50\n",
      "2836/2836 [==============================] - 16s 6ms/step - loss: 0.3768\n",
      "Epoch 37/50\n",
      "2836/2836 [==============================] - 15s 5ms/step - loss: 0.3754\n",
      "Epoch 38/50\n",
      "2836/2836 [==============================] - 16s 6ms/step - loss: 0.3740\n",
      "Epoch 39/50\n",
      "2836/2836 [==============================] - 15s 5ms/step - loss: 0.3734\n",
      "Epoch 40/50\n",
      "2836/2836 [==============================] - 16s 6ms/step - loss: 0.3717\n",
      "Epoch 41/50\n",
      "2836/2836 [==============================] - 16s 6ms/step - loss: 0.3708\n",
      "Epoch 42/50\n",
      "2836/2836 [==============================] - 16s 6ms/step - loss: 0.3708\n",
      "Epoch 43/50\n",
      "2836/2836 [==============================] - 15s 5ms/step - loss: 0.3682\n",
      "Epoch 44/50\n",
      "2836/2836 [==============================] - 15s 5ms/step - loss: 0.3693\n",
      "Epoch 45/50\n",
      "2836/2836 [==============================] - 15s 5ms/step - loss: 0.3670\n",
      "Epoch 46/50\n",
      "2836/2836 [==============================] - 16s 6ms/step - loss: 0.3664\n",
      "Epoch 47/50\n",
      "2836/2836 [==============================] - 16s 6ms/step - loss: 0.3659\n",
      "Epoch 48/50\n",
      "2836/2836 [==============================] - 16s 6ms/step - loss: 0.3641\n",
      "Epoch 49/50\n",
      "2836/2836 [==============================] - 16s 6ms/step - loss: 0.3639\n",
      "Epoch 50/50\n",
      "2836/2836 [==============================] - 16s 6ms/step - loss: 0.3647\n"
     ]
    },
    {
     "data": {
      "image/png": "[encoded data removed]",
      "text/plain": [
       "<Figure size 640x480 with 1 Axes>"
      ]
     },
     "metadata": {},
     "output_type": "display_data"
    }
   ],
   "source": [
    "# Training loop\n",
    "import matplotlib.pyplot as plt\n",
    "from sklearn.metrics import mean_absolute_error\n",
    "\n",
    "history = model.fit([train.user_id, train.movie_id], train.rating, epochs=50)\n",
    "pd.Series(history.history['loss']).plot(logy=True)\n",
    "plt.xlabel('Epoch')\n",
    "plt.ylabel('Train Error')\n",
    "plt.show()"
   ]
  },
  {
   "cell_type": "code",
   "execution_count": 7,
   "metadata": {},
   "outputs": [
    {
     "name": "stdout",
     "output_type": "stream",
     "text": [
      "316/316 [==============================] - 3s 6ms/step\n"
     ]
    },
    {
     "data": {
      "text/plain": [
       "0.7552300660648575"
      ]
     },
     "execution_count": 7,
     "metadata": {},
     "output_type": "execute_result"
    }
   ],
   "source": [
    "# Check on test split\n",
    "y_hat = np.round(model.predict([test.user_id, test.movie_id]), decimals=2)\n",
    "y_true = test.rating\n",
    "mean_absolute_error(y_true, y_hat)\n"
   ]
  },
  {
   "cell_type": "code",
   "execution_count": 14,
   "metadata": {},
   "outputs": [
    {
     "data": {
      "text/plain": [
       "[70197     448\n",
       " 100568    610\n",
       " 63823     414\n",
       " 11679      70\n",
       " 3498       21\n",
       "          ... \n",
       " 73478     474\n",
       " 46807     307\n",
       " 67562     437\n",
       " 41486     282\n",
       " 42257     288\n",
       " Name: user_id, Length: 10084, dtype: int64,\n",
       " 70197     7910\n",
       " 100568    6092\n",
       " 63823      460\n",
       " 11679     1102\n",
       " 3498       245\n",
       "           ... \n",
       " 73478     3000\n",
       " 46807      474\n",
       " 67562       75\n",
       " 41486      481\n",
       " 42257       56\n",
       " Name: movie_id, Length: 10084, dtype: int64]"
      ]
     },
     "execution_count": 14,
     "metadata": {},
     "output_type": "execute_result"
    }
   ],
   "source": [
    "[test.user_id, test.movie_id]"
   ]
  },
  {
   "cell_type": "code",
   "execution_count": 22,
   "metadata": {},
   "outputs": [
    {
     "data": {
      "text/plain": [
       "[[3.190000057220459],\n",
       " [2.700000047683716],\n",
       " [4.46999979019165],\n",
       " [4.909999847412109],\n",
       " [3.7799999713897705],\n",
       " [2.9800000190734863],\n",
       " [3.809999942779541],\n",
       " [5.099999904632568],\n",
       " [3.75],\n",
       " [4.090000152587891]]"
      ]
     },
     "execution_count": 22,
     "metadata": {},
     "output_type": "execute_result"
    }
   ],
   "source": [
    "y_hat.tolist()[0:10]"
   ]
  },
  {
   "cell_type": "code",
   "execution_count": 24,
   "metadata": {},
   "outputs": [
    {
     "data": {
      "text/plain": [
       "[0.0]"
      ]
     },
     "execution_count": 24,
     "metadata": {},
     "output_type": "execute_result"
    }
   ],
   "source": [
    "min(y_hat.tolist())"
   ]
  },
  {
   "cell_type": "code",
   "execution_count": 26,
   "metadata": {},
   "outputs": [
    {
     "data": {
      "text/plain": [
       "3.57"
      ]
     },
     "execution_count": 26,
     "metadata": {},
     "output_type": "execute_result"
    }
   ],
   "source": [
    "round(np.average(y_hat.tolist()), 3)"
   ]
  }
 ],
 "metadata": {
  "kernelspec": {
   "display_name": "python3",
   "language": "python",
   "name": "python3"
  },
  "language_info": {
   "codemirror_mode": {
    "name": "ipython",
    "version": 3
   },
   "file_extension": ".py",
   "mimetype": "text/x-python",
   "name": "python",
   "nbconvert_exporter": "python",
   "pygments_lexer": "ipython3",
   "version": "3.9.16"
  },
  "orig_nbformat": 4
 },
 "nbformat": 4,
 "nbformat_minor": 2
}
